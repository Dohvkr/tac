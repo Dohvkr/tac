{
 "cells": [
  {
   "cell_type": "markdown",
   "metadata": {},
   "source": [
    "# Word Embeddings : le modèle Word2Vec"
   ]
  },
  {
   "cell_type": "markdown",
   "metadata": {},
   "source": [
    "## Imports"
   ]
  },
  {
   "cell_type": "code",
   "execution_count": 65,
   "metadata": {},
   "outputs": [],
   "source": [
    "import sys\n",
    "\n",
    "from gensim.models.phrases import Phrases, Phraser\n",
    "from gensim.models import Word2Vec\n",
    "\n",
    "import nltk\n",
    "from nltk.tokenize import wordpunct_tokenize\n",
    "from unidecode import unidecode"
   ]
  },
  {
   "cell_type": "markdown",
   "metadata": {},
   "source": [
    "## Chargement et traitement des phrases du corpus"
   ]
  },
  {
   "cell_type": "markdown",
   "metadata": {},
   "source": [
    "### Création d'un objet qui *streame* les lignes d'un fichier pour économiser de la RAM"
   ]
  },
  {
   "cell_type": "code",
   "execution_count": 66,
   "metadata": {},
   "outputs": [],
   "source": [
    "class MySentences(object):\n",
    "    \"\"\"Tokenize and Lemmatize sentences\"\"\"\n",
    "    def __init__(self, filename):\n",
    "        self.filename = filename\n",
    "\n",
    "    def __iter__(self):\n",
    "        for line in open(self.filename, encoding='utf-8', errors=\"backslashreplace\"):\n",
    "            yield [unidecode(w.lower()) for w in wordpunct_tokenize(line)]"
   ]
  },
  {
   "cell_type": "code",
   "execution_count": 67,
   "metadata": {},
   "outputs": [],
   "source": [
    "infile = f\"../data/sents.txt\"\n",
    "sentences = MySentences(infile)"
   ]
  },
  {
   "cell_type": "markdown",
   "metadata": {},
   "source": [
    "### Détection des bigrams\n",
    "\n",
    "Article intéressant sur le sujet : https://towardsdatascience.com/word2vec-for-phrases-learning-embeddings-for-more-than-one-word-727b6cf723cf"
   ]
  },
  {
   "cell_type": "code",
   "execution_count": 68,
   "metadata": {},
   "outputs": [],
   "source": [
    "bigram_phrases = Phrases(sentences)"
   ]
  },
  {
   "cell_type": "markdown",
   "metadata": {},
   "source": [
    "L'object `phrases` peut être vu comme un large dictionnaire d'expressions multi-mots associées à un score, le *PMI-like scoring*. Ce dictionnaire est construit par un apprentissage sur base d'exemples.\n",
    "Voir les références ci-dessous :\n",
    "- https://arxiv.org/abs/1310.4546\n",
    "- https://en.wikipedia.org/wiki/Pointwise_mutual_information"
   ]
  },
  {
   "cell_type": "code",
   "execution_count": 69,
   "metadata": {},
   "outputs": [
    {
     "data": {
      "text/plain": [
       "dict"
      ]
     },
     "execution_count": 69,
     "metadata": {},
     "output_type": "execute_result"
    }
   ],
   "source": [
    "type(bigram_phrases.vocab)"
   ]
  },
  {
   "cell_type": "markdown",
   "metadata": {},
   "source": [
    "Il contient de nombreuses clés qui sont autant de termes observés dans le corpus"
   ]
  },
  {
   "cell_type": "code",
   "execution_count": 70,
   "metadata": {},
   "outputs": [
    {
     "data": {
      "text/plain": [
       "15761694"
      ]
     },
     "execution_count": 70,
     "metadata": {},
     "output_type": "execute_result"
    }
   ],
   "source": [
    "len(bigram_phrases.vocab.keys())"
   ]
  },
  {
   "cell_type": "markdown",
   "metadata": {},
   "source": [
    "Prenons une clé au hasard :"
   ]
  },
  {
   "cell_type": "code",
   "execution_count": 71,
   "metadata": {},
   "outputs": [
    {
     "name": "stdout",
     "output_type": "stream",
     "text": [
      ";'%\n"
     ]
    }
   ],
   "source": [
    "key_ = list(bigram_phrases.vocab.keys())[144]\n",
    "print(key_)"
   ]
  },
  {
   "cell_type": "markdown",
   "metadata": {},
   "source": [
    "Le dictionnaire indique le score de cette coocurrence :"
   ]
  },
  {
   "cell_type": "code",
   "execution_count": 72,
   "metadata": {},
   "outputs": [
    {
     "data": {
      "text/plain": [
       "1"
      ]
     },
     "execution_count": 72,
     "metadata": {},
     "output_type": "execute_result"
    }
   ],
   "source": [
    "bigram_phrases.vocab[key_]"
   ]
  },
  {
   "cell_type": "markdown",
   "metadata": {},
   "source": [
    "Lorsque l'instance de `Phrases` a été entraînée, elle peut concaténer les bigrams dans les phrases lorsque c'est pertinent."
   ]
  },
  {
   "cell_type": "markdown",
   "metadata": {},
   "source": [
    "### Conversion des `Phrases` en objet `Phraser`\n",
    "\n",
    "`Phraser` est un alias pour `gensim.models.phrases.FrozenPhrases`, voir ici https://radimrehurek.com/gensim/models/phrases.html.\n",
    "\n",
    "Le `Phraser` est une version *light* du `Phrases`, plus optimale pour transformer les phrases en concaténant les bigrams."
   ]
  },
  {
   "cell_type": "code",
   "execution_count": 73,
   "metadata": {},
   "outputs": [],
   "source": [
    "bigram_phraser = Phraser(phrases_model=bigram_phrases)"
   ]
  },
  {
   "cell_type": "markdown",
   "metadata": {},
   "source": [
    "Le `Phraser` est un objet qui convertit certains unigrams d'une liste en bigrams lorsqu'ils ont été identifiés comme pertinents."
   ]
  },
  {
   "cell_type": "markdown",
   "metadata": {},
   "source": [
    "### Extraction des trigrams"
   ]
  },
  {
   "cell_type": "markdown",
   "metadata": {},
   "source": [
    "Nous répétons l'opération en envoyant cette fois la liste de bigrams afin d'extraire les trigrams."
   ]
  },
  {
   "cell_type": "code",
   "execution_count": 74,
   "metadata": {},
   "outputs": [],
   "source": [
    "trigram_phrases = Phrases(bigram_phraser[sentences])"
   ]
  },
  {
   "cell_type": "code",
   "execution_count": 75,
   "metadata": {},
   "outputs": [],
   "source": [
    "trigram_phraser = Phraser(phrases_model=trigram_phrases)"
   ]
  },
  {
   "cell_type": "markdown",
   "metadata": {},
   "source": [
    "### Création d'un corpus d'unigrams, bigrams, trigrams"
   ]
  },
  {
   "cell_type": "code",
   "execution_count": 76,
   "metadata": {},
   "outputs": [],
   "source": [
    "corpus = list(trigram_phraser[bigram_phraser[sentences]])"
   ]
  },
  {
   "cell_type": "code",
   "execution_count": 77,
   "metadata": {},
   "outputs": [
    {
     "name": "stdout",
     "output_type": "stream",
     "text": [
      "[['raege', 'quotidien', 'j00', 'exemplaires_distribues', 'gratuitement', '#', 'k', '.', \"'\", 'dans', 'ilagg', ';', 'lomeration', 'bruxelloise', 'et', '.', 'en_province', '.'], ['i', 'personnes_habitant', 'aux_etages', 'fenile', 'journal_contre', '60', 'c', '\"<<', 'par_mois', '.'], ['fspir', 'est', 'expedie', 'en', 'proyinoe', 'contre', 't', '*>>\"', 'par_mois', ',', 'payables_par_trimestre', '.'], ['annonces', ',', 'faits_divers', 'et', 'reclames', 'sjont', 'recu', 'frie', 'd', \"'\", 'isabelle', ';', 'a', 'l', \"'\", 'agence', 'rossfjl', '.'], ['44', '.'], ['-', 'v', ',', 'et', 'do', 'l', \"'\", 'enseignement', ',', 'a', 'braxell', 'annonces_remises_avant', 'midi', 'sont', ';', '-', 'a', \";'%\", '>', '1', 'v', '>>^.'], [':', 'vv', '*', \"*'*\", 'hv', '/', 'f', '#-', 'v', '1', 'v', ';', \"'\", 'y', '>', 'fif', \"'\", 'ji', 'l', \"'\", 'h', '-', 'et', '.'], ['jeudi', '22', 'decembre', 'i887', 'observatoire', 'roy', \"&'\", 'cs', 'io', 'decembre', 's', 'heurts', 'uat', '$', 'r', '-:', 'r', 'quotidien_gratuit', 'temperature_maximum', 'de', 'la_veille', '--', 'moyenne_id', '.'], ['observation', '*', 'a', \"'\", 'midi_temperature', 'barometre_humidite', '(', 'ioo', '*=', 'humidite_absolue_)', 'vent_dominant', 'soleil', ',', 'lever', ',', 't', 'h', '.', '53', '.'], ['--', 'coucher', ',', 'lune', ',', 'lever', ',', '00', 'h', '.', '33', '.'], ['--', 'coucher', ',', \"'\", 'cuacteur', 'en', 'chef', 'je', '.'], ['roel8', 'le', ',\\\\', 'nvt', 'prix_des_insertions', 'annonces', ',', 'la', 'petite_ligne', '.'], ['faits_divers_corps', ',', 'la', 'ligne_faits', 'divers_fin', '\"', 'i', 'fi', '*.'], ['0', '.', '35', '4', '.', '00', '3', '.', '00_reclames', 'avant_les_theatres', '.'], ['fr', '.'], ['l', '.', 't', '.-.', 'j', \"'\", 'reparations_judiciaires', ',', 'la', 'ligno', '.'], ['2', '.', 'pv', '.', 'y', 'necrologies', ',', 'la', 'ligne_....', '2', '-', 'af', '-', 'f', 'i0te', 'pour', 'f', 'journal', '-', 'parer', 'edition', ':', 'm', '*', 'f', '1', \"'\", 'q', '.', '5', 'hev', ',', 'en', 'date', ':', 'i', '\\\\', '#<<!'], [';*', 'communiqua', '.'], ['ces', 'propo', '-', 'rv', '.', 'enus', '.'], ['*', 'ions', 'ce', 'que_vous_voudrez', ';', 'diront', '-', 'priere', ':', 'nous_mourrons', 'ci', 's', '01', 'issoc', '#', 'nex', 'occupa', \":'?\"], ['unrez', '-', 'l', 'agqior', '.', 'a', \"'\", 'iion', 'bi', \"'\", 'u', '-', '#', 'nc', '.'], [';*', 'erreraient', 'pas', 'le', \"!>'\", 'p', 'parfaite_exactitude', ',', 'priees', 'de', 'nous_avertir', '.'], ['|', 'ea', 'a', 'j', 'yyegularites', 'prouveraient', 'dine', 'sp', '%>', 'ou', 'une_infidelite', 'de', 'la', 'part', 'de', '.'], ['nos', 'irs', '.'], [';', ',', 'es', 'assassins', 'pouitiqces', 'au', 'six', '*', 'siecle', '.'], ['coupable', 'tentative', 'du', 'sieur', 'aubert', 'in', 're', '-', 'ft', 'les_assassins', 'ou', 'les', 'meurtriers', 'politiques', 'a', '[', 'di', \"'\", 'drc', 'du', 'jour', '.'], ['ce_serait', 'peut', '-', 'etre', 'le', 'moment', 'de', 'publier', 'un', 'travail', '>>', 'sur', 'l', \"'\", 'assassinat', 'ou', 'le', 'meurtre', 'poli', '-', 'e', ';', 'mais', 'par', 'ce', 'temps', 'de', 'vio', 'trop_rapide', 'et', 'attractions', 'trop', 'renouvelees', ',', 'il_y', 'aurait', 'bcau', '-', 'lu', 'p', 'de', 'chances', 'pour', 'que', 'le', 'sieur', 'auber', 'tin', 'fut', '.', 'mpletement', 'oublie', 'avant', 'que', 'ce', '<<', 'travail', '>>', '[', 't', 'mis', 'au', 'net', '.'], ['[', 'cependant', ',', 'la', 'matiere', 'n', \"'\", 'est', 'pas_moins', 'inte', '-', 'ante', 'qu', \"'\", 'abondante', '.'], ['depuis', 'ilarrnodius', '7', '/', 'ei', 'aristogiton', ',', 'les', 'carbonari', 'de', 'la', 'grere', 'heroique', ',', 'depuil', 'brutus', 'et', 'cassius', ',', 'ces', 'blan', '-', 'quistes', 'do', 'la', 'vjicillc', 'rome', ',', 'que', 'd', 'hommes', 'plus', 'ageux', '.', 'que', 'delicats', 'userent', 'du', 'poignard', 'feaifo', 'lier', 'les', 'questions_sociales', 'et', 'le', 'fil', \":'\", 's', 'ces', '<<', 'tyrans', '!'], ['>>', '\\\\', \"'\", 'navecmernt', '<_ie', '\"', 'o', '<', 'r5ier', \".'\", 'c', ';-', 'hri', '-', 'imtiyii', '.', 'c', 'le', 'de', 'la', 'nie', 'saint', '-', 'florentin', 'fit', 'grand', 'n', 'etaphoriquement', 'et', 'proprement', '1', 'ar', '*', 'bs', 'jours', 'teanqnii', '!'], ['siiicns', 'a', 'PS', 'r', '--', 'nous', 'iis', '.'], ['-', '-', 'alors', ',', 'faisons', 'la', \"'\", 'ms', 'demain', '.'], ['dites', 'si', 'un_pareil', 'homme', 'vous', \"'\", 'parait_avoir', 'ete', 'le', 'complice', 'des', 'quelques', 'miserables', 'qui', ',', 'dans', 'la', 'nie', \"'\", 'saint', '-', 'florentin', ',', 'manquerent', 'un', 'grand', 'homme', 'de', 'guerre', 'et', 'mirent', 'en', 'pieces', 'de', 'centaines', 'de', 'passants', 'inoffensife', '!'], ['*', '...', '*', 't', '/', 'constatons', '-', 'ie', 'maintenant', ',', 'fhljxlx', 'e', 'siecle', 'fut', 'plus', 'fertile_en', 'meurtres', 'polmltiies', 'que', 'doux', 'autres', 'siecles', 'pris_au_hasard', '.'], ['le', 'b', 'j', 'jtor', '.', 'du', 'adoucissement', 'des', 'moeurs', 'dont', 'notrrj', 'temps', 'est', 'si', 'fier', 'serait', '-', 'il', 'une_chimere', 'consuante', 'et', 'absurde', '?', ')'], ['en', '1s21', ',', 'un', 'garcon', '-', 'sellier', ',', 'louvel', ',', 'assassine', 'le', 'duc', 'de', 'berry', 'a', 'la', 'porte', 'de', 'l', \"'\", 'opera', ',', 'situe', 'alors', 'place', 'louvois', '.'], ['au_surplus', ',', 'il', 'est', 'bien_certain', 'que', 'louvel', 'n', \"'\", 'etait', 'pas', 'foncierement', 'un', 'fort', 'mechant_homme', '.'], ['un', 'fanatisme', 'bizarre', 'l', \"'\", 'aveuglait', '.'], ['11', 'lut', 'assassin', 'par', 'chauvinisme', '.'], ['louvel', 'etait', 'doux', ',', 'timide', ',', 'sombre', 'et', 'fier', 'comme', 'les', 'fanatiques', '.'], ['il', 'no', 'se_defendit', 'pas', 'devant', 'la', 'cour', 'dos', 'pairs', ';', 'il', 'ecouta', 'sans_sourciller', 'la_sentence', '*', 'dc', 'mort', 'et', ',', 'comme', 'faveur', 'supreme', ',', 'demanda', 'de', 'passer', 'sa_derniere', 'nuit', 'dans', 'des', 'draps', 'fins', '--', 'toute', 'sa_vie', 'il', 'avait_eu', 'cotte', 'envic', '-', 'la', '...', 'il', 'ne', 'l', \"'\", 'eut', 'probablement', 'jamais', 'satisfaite', 's', \"'\", 'il', 'n', \"'\", 'cut', 'point', 'ete', 'assassin', '.'], ['le_roi', 'louis', '-', 'philippe', 'fut', ',', 'de', 'tous_les', 'souverains', 'du', 'siecle', ',', 'celui', 'que', 'les_assassins', 'politiques', 'menacerent', 'le', 'plus', '.'], ['sa', 'couronne', 'fut', 'une', 'cible', '.'], ['l', \"'\", 'attentat', 'de', 'fieschy', ',', 'morey', 'et', 'pepin', 'restera', 'parmi_les', 'plus_sombres', 'legendes', 'de', 'paris', 'la', 'grand', \"'\", 'villc', '.', '.', 'quelques_rares', 'survivants', 'de', 'cette_epoque', 'parlent', 'avec', 'horreur', 'de', 'la', 'machine_infernale', 'des_boulevards', '.'], ['fieschi', ',', 'morey', 'et', 'pepin', 'etaient', 'd', \"'\", 'horribles', 'criminels', 'et', 'n', \"'\", 'obeissaient', 'qu', \"'\", 'a', 'de', 'sauvages', 'passions', '.'], ['les_anarchistes', 'meme', ',', 'liesi', '-', '-', 'ltritl', 'e', 'martyrs', '.'], ['comme', '-', 'ctus', \"'\", 'heros', \"'\", 'et', 'ue', '>>', 'ajoutons_que', ',', 'si', 'les_assassins', 'politiques', 'a', 'la', 'moderne', 'sont', 'moins', 'braves', 'et', 'moins', 'pratiques', ',', 'que', 'leurs_predecesseurs', ',', 'iils', 'obeissent', 'aussi', 'a', 'des', 'passions', 'bion', 'plus', 'inavouables', '.'], ['a', 'proprement_parler', ',', 'ils', 'detruisent', 'pour', 'detruire', '.'], ['ce', 'qui', 'les', 'pousse', '--', 'et', 'de', 'leur', 'propro', 'aveu', '--', 'oo', 'n', \"'\", 'est', 'pas', 'la', 'haine', 'de', 'la_societe', ',', 'do', 'l', \"'\", 'humanite', ';', 'mais', 'de', 'tout', '.'], ['les', 'nihilistes', '--', 'cos', 'anarchistes', 'vraiment', 'logiques', 'disent', 'a', 'qui_veut', 'les', 'entendre', ':', \">'\", '--', 'ce', 'qui', 'existe', 'nous', '!'], ['deplait', ';;', 'nous_ne_savons', 'par', 'quoi', 'nous', 'le', 'ronjplacerons', ';', 'mais_nous_voulons', 'lo', 'detruire', '.'], ['*', \"(#'\", 'lorsque', 'jacques', 'clement', 'poignardait', 'henri_iii', ',', 'il_croyait', 'venger', 'dieuoutrage', '.'], ['liorsquo', 'louvel', 'poignardait', 'leuttc', 'de', 'berry', ',', 'il_croyait', 'venger', 'son', 'dieu', ',', '-', 'a', 'lui', ',', 'bcmaparte', ',', 'mourant', 'en_exil', '.'], ['y', '-', '.'], [':', '.'], ['orsini', 'deplorait', 'certainement', 'la', 'mort', '.', 'des', 'innocentes_victimes', 'de', 'ses', 'bombes', '.;.'], ['*', '*-', 'v', '*', \"*'\", 'lelie', 'g', '!'], ['l', '-', 'vtbill', ':', 'lvv', \"'\", 'gei', 'i', 'attribua', 'd', \"'\", 'abord', 'celte', 'abomination', 'et', 'il', 'no', 'se_trompait', 'qu', \"'\", 'a', 'demi', '.'], ['11', 'et', 'carbon', ',', 'auteurs', 'du_crime', 'de', '3aii', 't', '-', 'florentin', ',', 'etaient', '<<', 'es', 'gens', 'sans', '...', ':', 't', ',_par_consequent', ',', 'dignes', 'd', \"'\", 'etre', 'fe', '{', '5', 'parmi_les', \"'\", 'sans', '-', 'culottes', ',', 'it', 'a', 'george', 'cadoudal', ',', 'il', 'est', 'historique', '-', 'trouve', 'qu', \"'\", 'il', 'ne_fut', 'pour', 'rien', 'dans', 'cet', 'lat', ',', 'et', 'memo', 'qu', \"'\", 'il', 'en', 'renia', 'et', 'condamna', 'titiurs', 'avec', 'la', 'derniere_energie', ',', 'jjyu', ',', 'dans', 'ma', 'premiere_enfance', ',', 'une', 'fem', '-', 'l', \"'\", 'eaprit', 'et', 'de', 'coeur', 'qui', 'avait_connu', 'et', 'aime', 'g', '<', 'j', 'cadoudal', ',', 'et', 'jo', 'n', \"'\", 'oublierai_jamais', 'les', 'irahles', 'choses', 'qu', \"'\", 'elle', 'm', \"'\", 'a', 'dites', 'sur', 'ce', 'clie', '-', 'ir', '(', 'lu', 'royalisme', 'et', 'du', 'loyalisme', 'bn', 'but', 'etait', 'd', \"'\", 'attaquer', 'le', 'prcnyer', 'consul', 'la', 'route', 'do', 'saint', '-', 'cloud', 'avec', 'une_troupe', 'jtement', 'de', 'meme', 'force', 'que', 'son', 'escorte', 'ut', 'un_peu', 'fou', ',', 'mais', 'ce', 'n', \"'\", 'etait', 'point', 'lache', '.'], ['iveille', 'de', 'son', 'execution', ',', 'un_emissaire', 'du', 'lier', 'consul', 'proposa', 'au', 'terrible', 'breton', 'le', 'orsini', ',', 'plus', 'pres', 'de', 'nous', ',', 'fut', 'un_personnage', 'autrement', 'interessant', 'que', 'les_assassins', 'politiques', 'susmentionnes', '.'], ['c', \"'\", 'etait', 'un_homme', 'du', 'meilleur', 'monde', ',', 'gentilhomme', 'de', 'vieille', 'race', ',', 'instruit', ',', 'lettre', ',', 'erudit', ',', 'artiste', 'meme', '.'], ['il', 'fit', 'belle', 'figure_parmi', 'ses', 'pietres', 'compagnons', ',', 'et', 'mourut', 'assez', 'galamment', '.'], ['l', \"'\", 'empereur_napoleon', 'iii', ',', 'qui', 'l', \"'\", 'avait', 'fort', 'connu', 'en', 'italie', ',', 'lui', 'eut', 'volontiers', 'fait', 'grace', ',', 'si', 'la', 'chose', 'eut_ete', 'possible', ';', 'mais', ',', 'sons_pretexte', 'de', 'tuer', 'ui', 'tyran', ',', 'cet_elegant', 'miserable', 'avait_mis', 'en', 'c', 'cuil', 'des_centaines', 'de', 'familles', '.'], ['le', 'bourreau', \"'\", 'e', 'reclamait', ';', 'il', 'lui_revenait', 'do', 'droit', '.'], ['les_assassins', 'politiques', 'qui', 'usent', 'de', 'bombes', 'sont', 'tres', 'modernes', ',', 'mais', 'peu', 'pratiques', '.'], ['jamais', ',', 'sauf_exception', 'confirmant', 'la', 'regle', ',', 'ils', 'n', \"'\", 'atteignent', 'leur', 'but', '.'], ['le_czar', 'alexandre', 'esl', 'un', 'des', 'rares', 'li', '/', 'rana', 'morts', 'd', \"'\", 'un_eclat', 'do', 'bombe', '.'], ['generalement', ',', 'les', 'bombes', 'no', 'tuent', 'que', 'les_passants', '...', 'ou', 'ceux_qui', 'les', 'lancent', '.'], ['au', 'seizieme_siecle', ',', 'ou', 'etait', 'certainement', 'plus_audacieux', 'mais', 'l', \"'\", 'assassin', 'politique', 'moderne', 'n', \"'\", 'a', 'ni', 'de', 'ces', 'illusions', ',', 'ni', 'do', 'ces', 'scrupules', ',', 'ni', 'de', 'ces', 'remords', '.'], ['son', 'acte', 'est', 'vraiaieftt', 'satanique', '.'], ['le', 'triste', 'aubcrtin', ',', 'sous', 'son_masque', 'chauvin', ',', 'ii', \"'\", 'eat', 'qu', \"'\", 'un', 'nihiliste', 'trbj', ')', 'timide', 'pour', 'user', 'du', 'couteau', '.', 'ii', 'est', 'audacieux', \".'\", 'otmmne', 'facetieux', ',', 'mais', \"parce_qu_'\", 'il', 'se', 'douto', '/', 'bien', 'qu', \"'\", 'il', 'ne', 'risque', 'pas', 'grand', \"'\", 'cliose', '.'], ['s', \"'\", 'il', 'vugue', 'vers', 'la', '>>', 'nouvelle', '>>,', 'il', 'en', \"'\", 'reviendrav', 'et', ',', 'd', ',', 's', \"'\", 'il', 'etait', 'un', 'jour', 'depute', 'et', 'meme', 'ministi', \"'\", 'e', ',', 'cela_pourrait', 'eton', '-', 'iler', 'les', 'manes', 'de', 'rafailiac', ',', 'de', 'louvel', 'ou', 'd', \"'\", 'orsini', ';', 'iftais', 'cela_ne', '^', 'surprendrait', ',', 'guere', 'aucun', 'de', 'nous', '.'], ['alors', 'il', 'lie', 'voudrait', 'plus', 'detruire', '.'], ['lls', \"'\", 'iiiquieteraitde', 'conserver', '.'], [\"'\", '\"-.', 'a', '.', \"'\"], ['i', \"'-\", '-', 'i', '.', 'nous_remercions', 'vivement', 'les', 'personnes_qui', 'ont_bien_voulu', 'nous', \".'\"], ['signaler', 'les', 'irregularites', 'dans', 'la', 'distribution', 'dri', \"'\", 'jouraal', ';', 'le', 'controle', 'du', 'publie', 'est', 'des', 'plu', '^', 'p', '.', 'r', '^', 'ciei', 'pour', 'nous', ';', 'il', 'est', 'impocyifale', 'a', 'uej', '*', 'juspectaj', \"'\", 'de', 'relever', 'toutes_les_erreurs', 'oii', 'les', 'infic', '|', 'jg', '|', 'de', 'nos', 'pointeurs', '.'], ['ncns', 'comptons_sur', 'l', \"'\", 'aide', 'bienveillant', 'tous', ',', 'pour_arriver', 'bientot', 'a', 'une', 'organis', ']', 'et', 'une', 'epuration', 'completes', 'dans', 'la', 'sei', 'complique', '.', 'des', 'distributeurs', ',.'], ['belge_des_ingenieurs', 'et', 'industriels', '(', 'au_palais', 'de', 'la', 'bourse', '),', 'une_conference', 'traitant', 'des', 'objets', 'brevetabtes', '.'], ['*', '--', 'societe_royale', 'de', 'geographie', '.'], ['jeudi_prochain', ',', 'a', '8', 'heures', 'du_sojr', ',', 'm', '.', 'joseph', 'martin', 'donnera', ',', 'a', 'la', 'societe_royale', 'belge', 'de', 'geographie', ',', 'uno', 'conference', 'sur', 'ses_voyages', 'dans', 'la', 'siberie', 'orientale', '.'], ['la', 'seance', 'aura_lieu', ',', 'rue_auguste_orts', ',', '1', '-', 'v', '.', '<<', '--', \"'\", 'l', \"'\", 'officiel', \"'\", 'moniteur', 'ou', 'si', 'decembre', 'decorations', 'civjfices', '.'], ['--', 'croix', 'de', 'i', '^.', 'cl', '.'], ['a', 'm', '.', 'desseille', ',', 'bourgmeslre', 'd', \"'\", 'ave', '-', 'et', '-', 'auffe', ';', 'medaille', 'de', 'i', 're_classo', 'a', 'mm', '.'], ['stenuit', ',', 'eclievin', 'a', 'limelette', ',', 'et', 'de', 'wdegenaerc', ',', 'garde', '-', 'champetre', 'a', 'dickcle', '.'], ['pensions', '.'], ['--', 'aux_veuves', 'de', 'mm', '.'], ['hequet', ',', 'chef', 'de', 'bureau', 'au', 'chemin', 'de', 'fer', '.'], ['fr', '.'], ['1', ',', '037', ';', 'lacques', ',', 'id', '.,', '3', ',', '072', ';', 'nameche', ',', 'i', '<<', 'commis', 'au', 'telegraphe', ';', '802', ';', 'bruyer', ',', 'eclusier', ',', '812', ';', 'poncin', ',-', 'facteur_rural', ',', '298', ';', 'yaiiliolstraele', ',', 'chef', '-', 'garde', ',', '1', ',', '187', ';', 'vertv', ',', 'facteur', 'de', 'station', ',', '807', ';', 'tanghe', ',', 'agree', 'au', 'c', 'iemin', 'de', 'fer', ',', '216', ';', 'bouchonvillc', ',', 'facteur_rural', ',', '378', ';', 'vandcrstraetcn', ',', 'i', 'ct', 'commis', 'au', 'chemin', 'de', 'fer', ',', 'i', ',', '108', ';', 'samyn', ',', 'aide', 'eclusier', ',', '294', ';', 'barbier', ',', 'commis', 'des_postes', ',', '2', 'i0', ';', 'rambcau', ',', '3', 'e', 'commis', 'au', 'chemin', 'de', 'fer', ',', '317', ';', 'thys', ',', 'chef', '-', 'garde', ',', 'i', ',', '092', ';', 'van', 'haudenhovc', ',', 'facteur_rural', ',', '491', ';', 'alvin', ',', 'ingenieur', 'des', 'mines', ',', '-', '1', ',', '7', '^', '2', ';', 'lliernaux', ',', '1_er', 'commis', 'au', 'clicmin', 'de', 'fer', ',', '024', ';', 'aux', 'enfants_mineurs', 'do', 'mm', '.'], ['yan', '-', 'cranenbroek', ',', 'i', 'r', '-', 'commis', 'au', 'chemin', 'de', 'fer', ',', '442', ';', 'block', ',', 'cciusicr', ',', '132', ';', 'mouiron', ',', 'srardc', '-', 'convoi', ',', '2i0', ';', 'yerhoeven', ',', '1_er', 'commis', 'au', 'pilotage', ',', '308', '.'], ['elections_communales', '.'], ['--', 'l', \"'\", 'election_communale', 'de', 'fiions', ',', 'validee', 'par_la_deputation', 'permanente', 'de', 'liege', ',', 'est', 'annulee', '.'], ['des', 'enquetes', 'sont', 'ordonnees', 'au_sujet', 'dos', 'elections', 'd', \"'\", 'oignies', 'et', 'de', 'mcrchtcm', '.'], ['*', 'h', '.', 'hoorikx', ',', 'm', 'ue', 'stroobant', ',', 'fanny', 'loymans', ',', 'c', '.', 'meunic', '}', '-', 'e', '.', 'p', \"'\", 'askv', ',', 'j', '.', 'portaels', ',', 'e', '.', 'secldracgers', ',', 'e', '.', 'slingcneyr', '\\\\,', '-', '-', '#', 'camille', 'triest', ',', 'cb', '.'], ['tschaggeny', ',', 'f', '.', 'yandamtue', ',', 'tandammi', '^', 'yy', \"'-:-\", 'sylva', '.'], ['e', '.', 'var', '.', 'dermeulen', ',', 'c', '.', 'van', 'leemoutten', ',', 'f', '.', 'van', 'lceuij', \"'\", '-', '_', ':', 'putlen', ',', 'h', '.', 'yanseben', ',', 'm', '.', 'staquet', ',', 'l', '.', 'filz', ',', 'v', '.-', 'uttcrschaut', \"^'\", 'y', '-.'], [':', 'sarah_bernhardt', 'est', ',', 'dit', '-', 'on', '.'], ['sur', 'le', 'point', 'ua', ';', 'devenir', 'belle', '-', 'mere', '!'], ['a', \"'\", 't', \"-'\", 'on_parle', ',', 'en_effet', ',', 'du', 'prochain_mariage', 'de', 'son_fils', '.']]\n"
     ]
    }
   ],
   "source": [
    "print(corpus[:100])"
   ]
  },
  {
   "cell_type": "markdown",
   "metadata": {},
   "source": [
    "## Entrainement d'un modèle Word2Vec sur ce corpus"
   ]
  },
  {
   "cell_type": "code",
   "execution_count": 78,
   "metadata": {},
   "outputs": [
    {
     "name": "stdout",
     "output_type": "stream",
     "text": [
      "CPU times: user 4min 39s, sys: 14.5 s, total: 4min 53s\n",
      "Wall time: 2min 1s\n"
     ]
    }
   ],
   "source": [
    "%%time\n",
    "model = Word2Vec(\n",
    "    corpus, # On passe le corpus de ngrams que nous venons de créer\n",
    "    vector_size=32, # Le nombre de dimensions dans lesquelles le contexte des mots devra être réduit, aka. vector_size\n",
    "    window=5, # La taille du \"contexte\", ici 5 mots avant et après le mot observé\n",
    "    min_count=5, # On ignore les mots qui n'apparaissent pas au moins 5 fois dans le corpus\n",
    "    workers=4, # Permet de paralléliser l'entraînement du modèle en 4 threads\n",
    "    epochs=5 # Nombre d'itérations du réseau de neurones sur le jeu de données pour ajuster les paramètres avec la descente de gradient, aka. epochs.\n",
    ")"
   ]
  },
  {
   "cell_type": "markdown",
   "metadata": {},
   "source": [
    "#### Remarque\n",
    "\n",
    "Vous voyez ici que l'entrainement du modèle est parallélisé (sur 4 workers).\n",
    "\n",
    "Lors qu'on parallélise l'entrainement du modèle, 4 modèles \"séparés\" sont entrainés sur environ un quart des phrases.\n",
    "\n",
    "Ensuite, les résultats sont agrégés pour ne plus faire qu'un seul modèle.\n",
    "\n",
    "On ne peut prédire quel worker aura quelle phrase, car il y a des aléas lors de la parallélisation (p. ex. un worker qui serait plus lent, etc.).\n",
    "\n",
    "Du coup, les valeurs peuvent varier légèrement d'un entrainement à l'autre.\n",
    "\n",
    "Mais, globalement, les résultats restent cohérents."
   ]
  },
  {
   "cell_type": "markdown",
   "metadata": {},
   "source": [
    "### Sauver le modèle dans un fichier"
   ]
  },
  {
   "cell_type": "code",
   "execution_count": 79,
   "metadata": {},
   "outputs": [],
   "source": [
    "outfile = f\"../data/newspapers.model\"\n",
    "model.save(outfile)"
   ]
  },
  {
   "cell_type": "markdown",
   "metadata": {},
   "source": [
    "## Explorer le modèle"
   ]
  },
  {
   "cell_type": "markdown",
   "metadata": {},
   "source": [
    "### Charger le modèle en mémoire"
   ]
  },
  {
   "cell_type": "code",
   "execution_count": 80,
   "metadata": {},
   "outputs": [],
   "source": [
    "model = Word2Vec.load(\"../data/newspapers.model\")"
   ]
  },
  {
   "cell_type": "markdown",
   "metadata": {},
   "source": [
    "### Imprimer le vecteur d'un terme"
   ]
  },
  {
   "cell_type": "code",
   "execution_count": 81,
   "metadata": {},
   "outputs": [
    {
     "data": {
      "text/plain": [
       "array([ 2.22267628e+00, -1.44581759e+00,  3.11505318e+00,  3.57834721e+00,\n",
       "        5.26942074e-01,  2.63067341e+00,  5.02332354e+00, -3.05495113e-01,\n",
       "       -1.09364426e+00, -3.56948876e+00, -3.95444822e+00,  3.75985813e+00,\n",
       "        8.66313457e+00,  5.30918169e+00, -1.91254103e+00, -1.86902559e+00,\n",
       "       -2.51020074e+00,  1.81631339e+00, -2.71324205e+00, -3.93816686e+00,\n",
       "       -4.95131111e+00,  1.05519905e+01, -1.11366129e+00,  3.71533394e+00,\n",
       "       -1.55611706e+00,  9.82813165e-03, -8.00381839e-01,  1.50562334e+00,\n",
       "       -7.89586067e-01, -1.93595123e+00,  2.03643513e+00,  5.64186871e-01],\n",
       "      dtype=float32)"
      ]
     },
     "execution_count": 81,
     "metadata": {},
     "output_type": "execute_result"
    }
   ],
   "source": [
    "model.wv[\"ministre\"]"
   ]
  },
  {
   "cell_type": "markdown",
   "metadata": {},
   "source": [
    "### Calculer la similarité entre deux termes"
   ]
  },
  {
   "cell_type": "code",
   "execution_count": 82,
   "metadata": {},
   "outputs": [
    {
     "data": {
      "text/plain": [
       "0.58848846"
      ]
     },
     "execution_count": 82,
     "metadata": {},
     "output_type": "execute_result"
    }
   ],
   "source": [
    "model.wv.similarity(\"royalisme\", \"gentilhomme\")"
   ]
  },
  {
   "cell_type": "code",
   "execution_count": 83,
   "metadata": {},
   "outputs": [
    {
     "data": {
      "text/plain": [
       "0.6452426"
      ]
     },
     "execution_count": 83,
     "metadata": {},
     "output_type": "execute_result"
    }
   ],
   "source": [
    "model.wv.similarity(\"attractions\", \"musique\")"
   ]
  },
  {
   "cell_type": "code",
   "execution_count": 84,
   "metadata": {},
   "outputs": [
    {
     "data": {
      "text/plain": [
       "0.72318614"
      ]
     },
     "execution_count": 84,
     "metadata": {},
     "output_type": "execute_result"
    }
   ],
   "source": [
    "model.wv.similarity(\"geographie\", \"politique\")"
   ]
  },
  {
   "cell_type": "markdown",
   "metadata": {},
   "source": [
    "### Chercher les mots les plus proches d'un terme donné"
   ]
  },
  {
   "cell_type": "code",
   "execution_count": 85,
   "metadata": {},
   "outputs": [
    {
     "data": {
      "text/plain": [
       "[('mien', 0.8289406299591064),\n",
       " ('caricaturiste', 0.8087123036384583),\n",
       " ('canari', 0.8037656545639038),\n",
       " ('herou_hotel', 0.7968170642852783),\n",
       " ('vrai_specialiste', 0.7907007336616516),\n",
       " ('petit_ange', 0.7856374979019165),\n",
       " ('plus_elegant', 0.7855172157287598),\n",
       " ('prunier', 0.7853228449821472),\n",
       " ('alien', 0.7848870158195496),\n",
       " ('monocle', 0.7818834185600281)]"
      ]
     },
     "execution_count": 85,
     "metadata": {},
     "output_type": "execute_result"
    }
   ],
   "source": [
    "model.wv.most_similar(\"royalisme\", topn=10)"
   ]
  },
  {
   "cell_type": "code",
   "execution_count": 86,
   "metadata": {},
   "outputs": [
    {
     "data": {
      "text/plain": [
       "[('ballets', 0.8834022879600525),\n",
       " ('danses', 0.8734057545661926),\n",
       " ('concerts', 0.8545930981636047),\n",
       " ('orchestres', 0.846609890460968),\n",
       " ('marionnettes', 0.8453210592269897),\n",
       " ('vedettes', 0.8322513103485107),\n",
       " ('bals', 0.8233698606491089),\n",
       " ('fanfares', 0.8210591673851013),\n",
       " ('choeurs', 0.8189030885696411),\n",
       " ('sonates', 0.814495861530304)]"
      ]
     },
     "execution_count": 86,
     "metadata": {},
     "output_type": "execute_result"
    }
   ],
   "source": [
    "model.wv.most_similar(\"attractions\", topn=10)"
   ]
  },
  {
   "cell_type": "code",
   "execution_count": 87,
   "metadata": {},
   "outputs": [
    {
     "data": {
      "text/plain": [
       "[('medecine', 0.9106082320213318),\n",
       " ('pedagogie', 0.8973264694213867),\n",
       " ('litterature', 0.8965217471122742),\n",
       " ('sociologie', 0.8853312134742737),\n",
       " ('langue_francaise', 0.870191216468811),\n",
       " ('culturelle', 0.860663890838623),\n",
       " ('presse_belge', 0.8546460270881653),\n",
       " ('physiologie', 0.8473893404006958),\n",
       " ('philosophie', 0.845599889755249),\n",
       " ('vulgarisation', 0.8453320264816284)]"
      ]
     },
     "execution_count": 87,
     "metadata": {},
     "output_type": "execute_result"
    }
   ],
   "source": [
    "model.wv.most_similar(\"geographie\", topn=10)"
   ]
  },
  {
   "cell_type": "code",
   "execution_count": 88,
   "metadata": {},
   "outputs": [
    {
     "data": {
      "text/plain": [
       "[('brave_homme', 0.922004759311676),\n",
       " ('millionnaire', 0.9171417951583862),\n",
       " ('philosophe', 0.9138683080673218),\n",
       " ('pretre', 0.907555878162384),\n",
       " ('contentement', 0.9019019603729248),\n",
       " ('poete', 0.9018382430076599),\n",
       " ('compagnon', 0.9017373919487),\n",
       " ('romancier', 0.9009806513786316),\n",
       " ('galant', 0.8989869356155396),\n",
       " ('personnage', 0.8980175852775574)]"
      ]
     },
     "execution_count": 88,
     "metadata": {},
     "output_type": "execute_result"
    }
   ],
   "source": [
    "model.wv.most_similar(\"gentilhomme\", topn=10)"
   ]
  },
  {
   "cell_type": "code",
   "execution_count": 89,
   "metadata": {},
   "outputs": [
    {
     "data": {
      "text/plain": [
       "[('danse', 0.8824560642242432),\n",
       " ('causerie', 0.8449584245681763),\n",
       " ('schubert', 0.8406160473823547),\n",
       " ('symphonie', 0.8381774425506592),\n",
       " ('mozart', 0.8377379775047302),\n",
       " ('beethoven', 0.8362671136856079),\n",
       " ('guitare', 0.8177639245986938),\n",
       " ('chopin', 0.8061898350715637),\n",
       " ('orchestre', 0.8055031895637512),\n",
       " ('verdi', 0.8026129007339478)]"
      ]
     },
     "execution_count": 89,
     "metadata": {},
     "output_type": "execute_result"
    }
   ],
   "source": [
    "model.wv.most_similar(\"musique\", topn=10)"
   ]
  },
  {
   "cell_type": "code",
   "execution_count": 90,
   "metadata": {},
   "outputs": [
    {
     "data": {
      "text/plain": [
       "[('neutralite', 0.9278957843780518),\n",
       " ('la_democratie', 0.9077697396278381),\n",
       " ('democratique', 0.9002721905708313),\n",
       " ('doctrine', 0.8978691697120667),\n",
       " ('cooperation', 0.8972781896591187),\n",
       " ('solidarite', 0.8969495296478271),\n",
       " ('discipline', 0.8904068470001221),\n",
       " ('politique_exterieure', 0.8877522945404053),\n",
       " ('politique_interieure', 0.8842083215713501),\n",
       " ('politique_etrangere', 0.8822564482688904)]"
      ]
     },
     "execution_count": 90,
     "metadata": {},
     "output_type": "execute_result"
    }
   ],
   "source": [
    "model.wv.most_similar(\"politique\", topn=10)"
   ]
  },
  {
   "cell_type": "markdown",
   "metadata": {},
   "source": [
    "### Faire des recherches complexes à travers l'espace vectoriel"
   ]
  },
  {
   "cell_type": "code",
   "execution_count": 91,
   "metadata": {},
   "outputs": [
    {
     "name": "stdout",
     "output_type": "stream",
     "text": [
      "[('berlin', 0.8138653635978699), ('datee_du', 0.7868233919143677), ('new_york', 0.7772507667541504), ('tokio', 0.7699856758117676), ('rome', 0.7483415007591248), ('moscou', 0.7378954291343689), ('casablanca', 0.7340309023857117), ('shanghai', 0.7336855530738831), ('teheran', 0.7257575392723083), ('par_avion', 0.7112868428230286)]\n"
     ]
    }
   ],
   "source": [
    "print(model.wv.most_similar(positive=['paris', 'londres'], negative=['belgique']))"
   ]
  }
 ],
 "metadata": {
  "kernelspec": {
   "display_name": "Python 3.10.7 ('tac_venv': venv)",
   "language": "python",
   "name": "python3"
  },
  "language_info": {
   "codemirror_mode": {
    "name": "ipython",
    "version": 3
   },
   "file_extension": ".py",
   "mimetype": "text/x-python",
   "name": "python",
   "nbconvert_exporter": "python",
   "pygments_lexer": "ipython3",
   "version": "3.10.7"
  },
  "vscode": {
   "interpreter": {
    "hash": "4d4aa92c91ff20a7f731610d6030887aa3052b801eaf689def2ca205c2a2e316"
   }
  }
 },
 "nbformat": 4,
 "nbformat_minor": 4
}
