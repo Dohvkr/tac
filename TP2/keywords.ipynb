{
 "cells": [
  {
   "cell_type": "code",
   "execution_count": 1,
   "metadata": {},
   "outputs": [],
   "source": [
    "import os\n",
    "import yake"
   ]
  },
  {
   "cell_type": "code",
   "execution_count": 2,
   "metadata": {},
   "outputs": [
    {
     "data": {
      "text/plain": [
       "<yake.yake.KeywordExtractor at 0x12d37f5e0>"
      ]
     },
     "execution_count": 2,
     "metadata": {},
     "output_type": "execute_result"
    }
   ],
   "source": [
    "# Instantier l'extracteur de mots clés\n",
    "kw_extractor = yake.KeywordExtractor(lan=\"fr\", top=50)\n",
    "kw_extractor"
   ]
  },
  {
   "cell_type": "code",
   "execution_count": 25,
   "metadata": {},
   "outputs": [],
   "source": [
    "# Lister les Fichiers\n",
    "data_path = \"../data/tmp/\"\n",
    "files = os.listdir(data_path)\n"
   ]
  },
  {
   "cell_type": "code",
   "execution_count": 26,
   "metadata": {},
   "outputs": [
    {
     "data": {
      "text/plain": [
       "3"
      ]
     },
     "execution_count": 26,
     "metadata": {},
     "output_type": "execute_result"
    }
   ],
   "source": [
    "# Imprimer le nombre de fichiers identifiés\n",
    "len(files)"
   ]
  },
  {
   "cell_type": "code",
   "execution_count": 27,
   "metadata": {},
   "outputs": [
    {
     "data": {
      "text/plain": [
       "['1967.png', '1967.txt', '1967_clean.txt']"
      ]
     },
     "execution_count": 27,
     "metadata": {},
     "output_type": "execute_result"
    }
   ],
   "source": [
    "# Les dix premiers fichiers\n",
    "files[:3]"
   ]
  },
  {
   "cell_type": "code",
   "execution_count": 28,
   "metadata": {},
   "outputs": [
    {
     "data": {
      "text/plain": [
       "'1967_clean.txt'"
      ]
     },
     "execution_count": 28,
     "metadata": {},
     "output_type": "execute_result"
    }
   ],
   "source": [
    "# Choisir un fichier\n",
    "this_file = files[2]\n",
    "this_file "
   ]
  },
  {
   "cell_type": "code",
   "execution_count": 29,
   "metadata": {},
   "outputs": [
    {
     "data": {
      "text/plain": [
       "'novembre nécrologie non pris annoncer décès monsieur guillaume eussen survenu bruxelles novembre année funérailles lieu intimité tient lieu part brux lombardzyde madame edgard detryvh allard faits part décès époux monsieur edgard detry survenu forest novembre année funérailles inhumation caveau famille cimetière ophain bols seigneur isaac lieu stricte intimité présent tient lieu part bruxelles rue max waller prie annoncer décès madame veuve leon van der cruycen née elvlre van walle veuve premièr'"
      ]
     },
     "execution_count": 29,
     "metadata": {},
     "output_type": "execute_result"
    }
   ],
   "source": [
    "# Récupérer le texte du fichier\n",
    "text = open(os.path.join(data_path, this_file), 'r').read()\n",
    "text[:500]"
   ]
  },
  {
   "cell_type": "code",
   "execution_count": 30,
   "metadata": {},
   "outputs": [
    {
     "data": {
      "text/plain": [
       "[('ecrire agence rossel', 9.687029115333863e-09),\n",
       " ('tient lieu part', 3.276275243178216e-08),\n",
       " ('enfants petits enfants', 3.6994341567571684e-08),\n",
       " ('enfants monsieur madame', 4.5799472526373746e-08),\n",
       " ('agence rossel numéro', 4.9494853078224304e-08),\n",
       " ('agence rossel rue', 4.9572188278871585e-08),\n",
       " ('lieu part bruxelles', 6.111392225523021e-08),\n",
       " ('rue royale bruxelles', 7.201360612861938e-08),\n",
       " ('part décès monsieur', 7.478244123773787e-08),\n",
       " ('emp emp emp', 7.551257040813179e-08),\n",
       " ('prétentions agence rossel', 8.232401598743367e-08),\n",
       " ('vitae agence rossel', 8.280612932736067e-08),\n",
       " ('annoncer décès monsieur', 8.508960358960937e-08),\n",
       " ('part bruxelles rue', 9.148060649678387e-08),\n",
       " ('bruxelles tél rue', 9.373154389451448e-08),\n",
       " ('libre service militaire', 9.427431341098647e-08),\n",
       " ('tél heures bur', 9.512648251687547e-08),\n",
       " ('petits enfants monsieur', 9.515181141253486e-08),\n",
       " ('monsieur madame jean', 1.073448889329537e-07),\n",
       " ('palais beaux arts', 1.1425734689535378e-07),\n",
       " ('rue bruxelles tél', 1.171644298681431e-07),\n",
       " ('liège liège liège', 1.2802208067644158e-07),\n",
       " ('rossel rue royale', 1.2980561382106847e-07),\n",
       " ('tél heures bureau', 1.409203533490956e-07),\n",
       " ('service personnel rue', 1.410626375484622e-07),\n",
       " ('présent tient lieu', 1.5230673969336187e-07),\n",
       " ('part décès madame', 1.5274258256097745e-07),\n",
       " ('juin juillet août', 1.5881268822488792e-07),\n",
       " ('annoncer décès madame', 1.6561789901034733e-07),\n",
       " ('part monsieur madame', 1.7617040421886257e-07),\n",
       " ('ecrire curriculum vitae', 1.7913692021179143e-07),\n",
       " ('théâtre rues rue', 1.8160776986884672e-07),\n",
       " ('rue loi bruxelles', 1.8189037727097496e-07),\n",
       " ('offre agence rossel', 1.8631640533756224e-07),\n",
       " ('prie annoncer décès', 1.9479331415526354e-07),\n",
       " ('enfants beaux enfants', 2.019660066552259e-07),\n",
       " ('douleur part décès', 2.0368375730967684e-07),\n",
       " ('agence rossel num', 2.1454301693018953e-07),\n",
       " ('bruxelles tél heures', 2.3215656539459503e-07),\n",
       " ('heures bruxelles rue', 2.3365951679716127e-07),\n",
       " ('parc tél heures', 2.3383880409354543e-07),\n",
       " ('mercredi juin heures', 2.3981064310377226e-07),\n",
       " ('petits enfants enfants', 2.4416265434597307e-07),\n",
       " ('agence rossel société', 2.450405566980004e-07),\n",
       " ('royale bruxelles tél', 2.575812537403413e-07),\n",
       " ('voyages agence rossel', 2.5972253354009873e-07),\n",
       " ('lundi novembre heures', 2.6302223793400655e-07),\n",
       " ('lieu part madame', 2.682251032765739e-07),\n",
       " ('avenue louise bruxelles', 2.6940715123359243e-07),\n",
       " ('beaux arts rideau', 2.822034718684089e-07)]"
      ]
     },
     "execution_count": 30,
     "metadata": {},
     "output_type": "execute_result"
    }
   ],
   "source": [
    "# Extraire les mots clés de ce texte\n",
    "keywords = kw_extractor.extract_keywords(text)\n",
    "keywords"
   ]
  },
  {
   "cell_type": "code",
   "execution_count": 31,
   "metadata": {},
   "outputs": [
    {
     "data": {
      "text/plain": [
       "[]"
      ]
     },
     "execution_count": 31,
     "metadata": {},
     "output_type": "execute_result"
    }
   ],
   "source": [
    "# Ne garder que les bigrammes\n",
    "kept = []\n",
    "for kw, score in keywords:\n",
    "    words = kw.split()\n",
    "    if len(words) == 2:\n",
    "        kept.append(kw)\n",
    "kept"
   ]
  },
  {
   "cell_type": "code",
   "execution_count": 32,
   "metadata": {},
   "outputs": [
    {
     "ename": "UnicodeDecodeError",
     "evalue": "'utf-8' codec can't decode byte 0x89 in position 0: invalid start byte",
     "output_type": "error",
     "traceback": [
      "\u001b[0;31m---------------------------------------------------------------------------\u001b[0m",
      "\u001b[0;31mUnicodeDecodeError\u001b[0m                        Traceback (most recent call last)",
      "Cell \u001b[0;32mIn [32], line 2\u001b[0m\n\u001b[1;32m      1\u001b[0m \u001b[38;5;28;01mfor\u001b[39;00m f \u001b[38;5;129;01min\u001b[39;00m \u001b[38;5;28msorted\u001b[39m(files)[:\u001b[38;5;241m10\u001b[39m]:\n\u001b[0;32m----> 2\u001b[0m     text \u001b[38;5;241m=\u001b[39m \u001b[38;5;28mopen\u001b[39m(os\u001b[38;5;241m.\u001b[39mpath\u001b[38;5;241m.\u001b[39mjoin(data_path, f), \u001b[38;5;124m'\u001b[39m\u001b[38;5;124mr\u001b[39m\u001b[38;5;124m'\u001b[39m)\u001b[38;5;241m.\u001b[39mread()\n\u001b[1;32m      3\u001b[0m     keywords \u001b[38;5;241m=\u001b[39m kw_extractor\u001b[38;5;241m.\u001b[39mextract_keywords(text)\n\u001b[1;32m      4\u001b[0m     kept \u001b[38;5;241m=\u001b[39m []\n",
      "File \u001b[0;32m/Library/Frameworks/Python.framework/Versions/3.10/lib/python3.10/codecs.py:322\u001b[0m, in \u001b[0;36mBufferedIncrementalDecoder.decode\u001b[0;34m(self, input, final)\u001b[0m\n\u001b[1;32m    319\u001b[0m \u001b[39mdef\u001b[39;00m \u001b[39mdecode\u001b[39m(\u001b[39mself\u001b[39m, \u001b[39minput\u001b[39m, final\u001b[39m=\u001b[39m\u001b[39mFalse\u001b[39;00m):\n\u001b[1;32m    320\u001b[0m     \u001b[39m# decode input (taking the buffer into account)\u001b[39;00m\n\u001b[1;32m    321\u001b[0m     data \u001b[39m=\u001b[39m \u001b[39mself\u001b[39m\u001b[39m.\u001b[39mbuffer \u001b[39m+\u001b[39m \u001b[39minput\u001b[39m\n\u001b[0;32m--> 322\u001b[0m     (result, consumed) \u001b[39m=\u001b[39m \u001b[39mself\u001b[39;49m\u001b[39m.\u001b[39;49m_buffer_decode(data, \u001b[39mself\u001b[39;49m\u001b[39m.\u001b[39;49merrors, final)\n\u001b[1;32m    323\u001b[0m     \u001b[39m# keep undecoded input until the next call\u001b[39;00m\n\u001b[1;32m    324\u001b[0m     \u001b[39mself\u001b[39m\u001b[39m.\u001b[39mbuffer \u001b[39m=\u001b[39m data[consumed:]\n",
      "\u001b[0;31mUnicodeDecodeError\u001b[0m: 'utf-8' codec can't decode byte 0x89 in position 0: invalid start byte"
     ]
    }
   ],
   "source": [
    "for f in sorted(files)[:10]:\n",
    "    text = open(os.path.join(data_path, f), 'r').read()\n",
    "    keywords = kw_extractor.extract_keywords(text)\n",
    "    kept = []\n",
    "    for kw, score in keywords:\n",
    "        words = kw.split()\n",
    "        if len(words) == 2:\n",
    "            kept.append(kw)\n",
    "    print(f\"{f} mentions these keywords: {', '.join(kept)}...\")"
   ]
  }
 ],
 "metadata": {
  "kernelspec": {
   "display_name": "Python 3.10.7 ('tac_venv': venv)",
   "language": "python",
   "name": "python3"
  },
  "language_info": {
   "codemirror_mode": {
    "name": "ipython",
    "version": 3
   },
   "file_extension": ".py",
   "mimetype": "text/x-python",
   "name": "python",
   "nbconvert_exporter": "python",
   "pygments_lexer": "ipython3",
   "version": "3.10.7"
  },
  "orig_nbformat": 4,
  "vscode": {
   "interpreter": {
    "hash": "4d4aa92c91ff20a7f731610d6030887aa3052b801eaf689def2ca205c2a2e316"
   }
  }
 },
 "nbformat": 4,
 "nbformat_minor": 2
}
