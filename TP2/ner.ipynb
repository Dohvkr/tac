{
 "cells": [
  {
   "cell_type": "code",
   "execution_count": 272,
   "metadata": {},
   "outputs": [],
   "source": [
    "from collections import defaultdict\n",
    "import sys\n",
    "import spacy\n",
    "from spacy.lang.fr.examples import sentences"
   ]
  },
  {
   "cell_type": "code",
   "execution_count": 273,
   "metadata": {},
   "outputs": [],
   "source": [
    "nlp = spacy.load('fr_core_news_md')"
   ]
  },
  {
   "cell_type": "code",
   "execution_count": 274,
   "metadata": {},
   "outputs": [],
   "source": [
    "n=10000\n",
    "text = open(\"../data/tmp/1967.txt\", encoding='utf-8').read()[:n]"
   ]
  },
  {
   "cell_type": "code",
   "execution_count": 275,
   "metadata": {},
   "outputs": [],
   "source": [
    "# Traiter la phrase avec Spacy\n",
    "doc = nlp(sent)"
   ]
  },
  {
   "cell_type": "code",
   "execution_count": 276,
   "metadata": {},
   "outputs": [
    {
     "data": {
      "text/plain": [
       "spacy.tokens.doc.Doc"
      ]
     },
     "execution_count": 276,
     "metadata": {},
     "output_type": "execute_result"
    }
   ],
   "source": [
    "type(doc)"
   ]
  },
  {
   "cell_type": "code",
   "execution_count": 277,
   "metadata": {},
   "outputs": [
    {
     "data": {
      "text/plain": [
       "'Quand est né Barack Obama ?'"
      ]
     },
     "execution_count": 277,
     "metadata": {},
     "output_type": "execute_result"
    }
   ],
   "source": [
    "doc.text"
   ]
  },
  {
   "cell_type": "code",
   "execution_count": 278,
   "metadata": {},
   "outputs": [
    {
     "data": {
      "text/plain": [
       "{'text': 'Quand est né Barack Obama ?',\n",
       " 'ents': [{'start': 13, 'end': 25, 'label': 'PER'}],\n",
       " 'sents': [{'start': 0, 'end': 27}],\n",
       " 'tokens': [{'id': 0,\n",
       "   'start': 0,\n",
       "   'end': 5,\n",
       "   'tag': 'ADV',\n",
       "   'pos': 'ADV',\n",
       "   'morph': '',\n",
       "   'lemma': 'quand',\n",
       "   'dep': 'mark',\n",
       "   'head': 2},\n",
       "  {'id': 1,\n",
       "   'start': 6,\n",
       "   'end': 9,\n",
       "   'tag': 'AUX',\n",
       "   'pos': 'AUX',\n",
       "   'morph': 'Mood=Ind|Number=Sing|Person=3|Tense=Pres|VerbForm=Fin',\n",
       "   'lemma': 'être',\n",
       "   'dep': 'aux:tense',\n",
       "   'head': 2},\n",
       "  {'id': 2,\n",
       "   'start': 10,\n",
       "   'end': 12,\n",
       "   'tag': 'VERB',\n",
       "   'pos': 'VERB',\n",
       "   'morph': 'Gender=Masc|Number=Sing|Tense=Past|VerbForm=Part',\n",
       "   'lemma': 'naître',\n",
       "   'dep': 'ROOT',\n",
       "   'head': 2},\n",
       "  {'id': 3,\n",
       "   'start': 13,\n",
       "   'end': 19,\n",
       "   'tag': 'PROPN',\n",
       "   'pos': 'PROPN',\n",
       "   'morph': '',\n",
       "   'lemma': 'Barack',\n",
       "   'dep': 'nsubj',\n",
       "   'head': 2},\n",
       "  {'id': 4,\n",
       "   'start': 20,\n",
       "   'end': 25,\n",
       "   'tag': 'PROPN',\n",
       "   'pos': 'PROPN',\n",
       "   'morph': '',\n",
       "   'lemma': 'Obama',\n",
       "   'dep': 'flat:name',\n",
       "   'head': 3},\n",
       "  {'id': 5,\n",
       "   'start': 26,\n",
       "   'end': 27,\n",
       "   'tag': 'PUNCT',\n",
       "   'pos': 'PUNCT',\n",
       "   'morph': '',\n",
       "   'lemma': '?',\n",
       "   'dep': 'punct',\n",
       "   'head': 2}]}"
      ]
     },
     "execution_count": 278,
     "metadata": {},
     "output_type": "execute_result"
    }
   ],
   "source": [
    "doc.to_json()"
   ]
  },
  {
   "cell_type": "code",
   "execution_count": 279,
   "metadata": {},
   "outputs": [
    {
     "name": "stdout",
     "output_type": "stream",
     "text": [
      "'Apple cherche à acheter une start-up anglaise pour 1 milliard de dollars' contient les entités suivantes : Apple (ORG)\n",
      "'Les voitures autonomes déplacent la responsabilité de l'assurance vers les constructeurs' ne contient aucune entité\n",
      "'San Francisco envisage d'interdire les robots coursiers sur les trottoirs' contient les entités suivantes : San Francisco (LOC)\n",
      "'Londres est une grande ville du Royaume-Uni' contient les entités suivantes : Londres (LOC), Royaume-Uni (LOC)\n",
      "'L’Italie choisit ArcelorMittal pour reprendre la plus grande aciérie d’Europe' contient les entités suivantes : L’Italie (LOC), ArcelorMittal (ORG), Europe (LOC)\n",
      "'Apple lance HomePod parce qu'il se sent menacé par l'Echo d'Amazon' contient les entités suivantes : Apple (ORG), HomePod (MISC), Echo (ORG), Amazon (ORG)\n",
      "'La France ne devrait pas manquer d'électricité cet été, même en cas de canicule' contient les entités suivantes : La France (LOC)\n",
      "'Nouvelles attaques de Trump contre le maire de Londres' contient les entités suivantes : Trump (PER), Londres (LOC)\n",
      "'Où es-tu ?' contient les entités suivantes : Où es-tu ? (MISC)\n",
      "'Qui est le président de la France ?' contient les entités suivantes : la France (LOC)\n",
      "'Où est la capitale des États-Unis ?' contient les entités suivantes : États-Unis (LOC)\n",
      "'Quand est né Barack Obama ?' contient les entités suivantes : Barack Obama (PER)\n"
     ]
    }
   ],
   "source": [
    "# Appliquer le test sur toutes les phrases\n",
    "for sent in sentences:\n",
    "    doc = nlp(sent)\n",
    "    entities = []\n",
    "    for ent in doc.ents:\n",
    "        entities.append(f\"{ent.text} ({ent.label_})\")\n",
    "    if entities:\n",
    "        print(f\"'{doc.text}' contient les entités suivantes : {', '.join(entities)}\")\n",
    "    else:\n",
    "        print(f\"'{doc.text}' ne contient aucune entité\")"
   ]
  },
  {
   "cell_type": "code",
   "execution_count": 280,
   "metadata": {},
   "outputs": [],
   "source": [
    "# Charger le texte\n",
    "n = 100000\n",
    "text = open(\"../data/tmp/1967.txt\", encoding='utf-8').read()[:n]"
   ]
  },
  {
   "cell_type": "code",
   "execution_count": 281,
   "metadata": {},
   "outputs": [
    {
     "name": "stdout",
     "output_type": "stream",
     "text": [
      "CPU times: user 4.13 s, sys: 194 ms, total: 4.32 s\n",
      "Wall time: 4.38 s\n"
     ]
    }
   ],
   "source": [
    "%%time\n",
    "# Traiter le texte\n",
    "\n",
    "doc = nlp(text)"
   ]
  },
  {
   "cell_type": "code",
   "execution_count": 282,
   "metadata": {},
   "outputs": [],
   "source": [
    "# Compter les entités\n",
    "people = defaultdict(int)\n",
    "for ent in doc.ents:\n",
    "    if ent.label_ == \"PER\" and len(ent.text) > 3:\n",
    "        people[ent.text] += 1"
   ]
  },
  {
   "cell_type": "code",
   "execution_count": 283,
   "metadata": {},
   "outputs": [],
   "source": [
    "# Compter les entités\n",
    "organisations = defaultdict(int)\n",
    "for ent in doc.ents:\n",
    "    if ent.label_ == \"ORG\" and len(ent.text) > 3:\n",
    "        organisations[ent.text] += 1\n"
   ]
  },
  {
   "cell_type": "code",
   "execution_count": 284,
   "metadata": {},
   "outputs": [],
   "source": [
    "# Compter les entités\n",
    "locations = defaultdict(int)\n",
    "for ent in doc.ents:\n",
    "    if ent.label_ == \"LOC\" and len(ent.text) > 3:\n",
    "        locations[ent.text] += 1"
   ]
  },
  {
   "cell_type": "code",
   "execution_count": 285,
   "metadata": {},
   "outputs": [
    {
     "name": "stdout",
     "output_type": "stream",
     "text": [
      "Monsieur apparait 22 fois dans le corpus\n",
      "MONSIEUR apparait 12 fois dans le corpus\n",
      "Sir Richard apparait 10 fois dans le corpus\n",
      "P. S. C. apparait 5 fois dans le corpus\n",
      "M. Jean Rey apparait 4 fois dans le corpus\n",
      "Hermès apparait 4 fois dans le corpus\n",
      "M. Goldmann apparait 4 fois dans le corpus\n",
      "Seigneur apparait 3 fois dans le corpus\n",
      "Richard apparait 3 fois dans le corpus\n",
      "Lundi apparait 3 fois dans le corpus\n",
      "Henri Dubois apparait 3 fois dans le corpus\n",
      "P. L. P. apparait 3 fois dans le corpus\n",
      "Delrée apparait 3 fois dans le corpus\n",
      "Raspoutine apparait 3 fois dans le corpus\n",
      "Robert Hirsch apparait 3 fois dans le corpus\n",
      "Wieland Wagner apparait 3 fois dans le corpus\n",
      "Guy Barbier apparait 3 fois dans le corpus\n",
      "DE FAIRE-PART apparait 2 fois dans le corpus\n",
      "Emile Digneffe apparait 2 fois dans le corpus\n",
      "Claude apparait 2 fois dans le corpus\n",
      "Henry HALLEZ apparait 2 fois dans le corpus\n",
      "Paul Parent apparait 2 fois dans le corpus\n",
      "Jean Rey apparait 2 fois dans le corpus\n",
      "Banks apparait 2 fois dans le corpus\n",
      "Wells apparait 2 fois dans le corpus\n",
      "Steyaert apparait 2 fois dans le corpus\n",
      "M. Cooremans apparait 2 fois dans le corpus\n",
      "M. Grootjans apparait 2 fois dans le corpus\n",
      "Claude Buffet apparait 2 fois dans le corpus\n",
      "M. Vrydags apparait 2 fois dans le corpus\n",
      "M. Idiers apparait 2 fois dans le corpus\n",
      "P. S. B. apparait 2 fois dans le corpus\n",
      "M. Desmarets apparait 2 fois dans le corpus\n",
      "Robert Casadesus apparait 2 fois dans le corpus\n",
      "Zino Francescatti apparait 2 fois dans le corpus\n",
      "Robert Hossein apparait 2 fois dans le corpus\n",
      "Romain Gary apparait 2 fois dans le corpus\n",
      "T.R.M. apparait 2 fois dans le corpus\n",
      "Guillaume EUSSEN apparait 1 fois dans le corpus\n",
      "Edgard DETRYVH ALLARD apparait 1 fois dans le corpus\n",
      "Edgard DETRY apparait 1 fois dans le corpus\n",
      "Max Waller apparait 1 fois dans le corpus\n",
      "Elvlre VAN DE WALLE apparait 1 fois dans le corpus\n",
      "Rodolphe DE COSTER apparait 1 fois dans le corpus\n",
      "Madame Antoine DE WOLF-VAN DE apparait 1 fois dans le corpus\n",
      "Monsieur Carlos DE WOLF apparait 1 fois dans le corpus\n",
      "Madame Auguste DE WOLF apparait 1 fois dans le corpus\n",
      "Jacques DE WOLF apparait 1 fois dans le corpus\n",
      "Madame Antoine MOTTE apparait 1 fois dans le corpus\n",
      "Madame Rodolphe apparait 1 fois dans le corpus\n"
     ]
    }
   ],
   "source": [
    "# Trier et imprimer\n",
    "\n",
    "sorted_people = sorted(people.items(), key=lambda kv: kv[1], reverse=True)\n",
    "\n",
    "for person, freq in sorted_people[:50]:\n",
    "    print(f\"{person} apparait {freq} fois dans le corpus\")\n"
   ]
  },
  {
   "cell_type": "code",
   "execution_count": 286,
   "metadata": {},
   "outputs": [
    {
     "name": "stdout",
     "output_type": "stream",
     "text": [
      "Conseil apparait 10 fois dans le corpus\n",
      "Intimité apparait 4 fois dans le corpus\n",
      "Collège apparait 4 fois dans le corpus\n",
      "Fonds des routes apparait 3 fois dans le corpus\n",
      "Foire apparait 3 fois dans le corpus\n",
      "Palmes d’or de la Couronne apparait 2 fois dans le corpus\n",
      "Commission de la famille apparait 2 fois dans le corpus\n",
      "Swift apparait 2 fois dans le corpus\n",
      "Lombardzyde apparait 1 fois dans le corpus\n",
      "Chevalier apparait 1 fois dans le corpus\n",
      "Ordre de Léopold apparait 1 fois dans le corpus\n",
      "Naeyer apparait 1 fois dans le corpus\n",
      "VANCOPPENOLLE apparait 1 fois dans le corpus\n",
      "VEUVE apparait 1 fois dans le corpus\n",
      "Secours de la Religion apparait 1 fois dans le corpus\n",
      "RAMACKERS apparait 1 fois dans le corpus\n",
      "Institut des Arts et Métiers de la ville de Bruxelles apparait 1 fois dans le corpus\n",
      "MONSIEUR apparait 1 fois dans le corpus\n",
      "SEELEN apparait 1 fois dans le corpus\n",
      "BRUYN apparait 1 fois dans le corpus\n",
      "VALKAERT apparait 1 fois dans le corpus\n",
      "Koster apparait 1 fois dans le corpus\n",
      "Co- ninck. apparait 1 fois dans le corpus\n",
      "DERMIENCE apparait 1 fois dans le corpus\n",
      "Conseil d’administration de la Ligue Braille apparait 1 fois dans le corpus\n",
      "Comité de la Canne Blanche apparait 1 fois dans le corpus\n",
      "Direction apparait 1 fois dans le corpus\n",
      "Légion d’honneur apparait 1 fois dans le corpus\n",
      "Eve- apparait 1 fois dans le corpus\n",
      "Ordre de Léopold IL Titulaire apparait 1 fois dans le corpus\n",
      "DARDEL apparait 1 fois dans le corpus\n",
      "LINDMAN apparait 1 fois dans le corpus\n",
      "GIUSLAIN apparait 1 fois dans le corpus\n",
      "Fbba de-DARDEL apparait 1 fois dans le corpus\n",
      "GILSON apparait 1 fois dans le corpus\n",
      "Ordre de Léopold! apparait 1 fois dans le corpus\n",
      "Ordre de la Couronne apparait 1 fois dans le corpus\n",
      "Salnt- Servais apparait 1 fois dans le corpus\n",
      "Centre téléphonique médical apparait 1 fois dans le corpus\n",
      "ANDERLECHT apparait 1 fois dans le corpus\n",
      "GRAND-BIGARD apparait 1 fois dans le corpus\n",
      "Chambre syndicale dentaire apparait 1 fois dans le corpus\n",
      "Exécutif des Communautés européennes apparait 1 fois dans le corpus\n",
      "ministère des Affaires apparait 1 fois dans le corpus\n",
      "Communautés européennes apparait 1 fois dans le corpus\n",
      "Exécutifs apparait 1 fois dans le corpus\n",
      "Cercle Gaulois apparait 1 fois dans le corpus\n",
      "Conseil provincial de Namur A Dinant apparait 1 fois dans le corpus\n",
      "Groupe Winterthur apparait 1 fois dans le corpus\n",
      "Union & Prévoyance apparait 1 fois dans le corpus\n"
     ]
    }
   ],
   "source": [
    "sorted_organisations = sorted(organisations.items(), key=lambda kv: kv[1], reverse=True)\n",
    "\n",
    "for organisation, freq in sorted_organisations[:50]:\n",
    "        print(f\"{organisation} apparait {freq} fois dans le corpus\")\n"
   ]
  },
  {
   "cell_type": "code",
   "execution_count": 287,
   "metadata": {},
   "outputs": [
    {
     "name": "stdout",
     "output_type": "stream",
     "text": [
      "Bruxelles apparait 36 fois dans le corpus\n",
      "Belgique apparait 16 fois dans le corpus\n",
      "Anvers apparait 11 fois dans le corpus\n",
      "Bruxellois apparait 9 fois dans le corpus\n",
      "Réunion apparait 8 fois dans le corpus\n",
      "Liège apparait 6 fois dans le corpus\n",
      "Gand apparait 6 fois dans le corpus\n",
      "Etat apparait 6 fois dans le corpus\n",
      "Wallonie apparait 6 fois dans le corpus\n",
      "Winterthur apparait 6 fois dans le corpus\n",
      "Paris apparait 5 fois dans le corpus\n",
      "Allemagne apparait 5 fois dans le corpus\n",
      "Grande-Bretagne apparait 5 fois dans le corpus\n",
      "Europe apparait 5 fois dans le corpus\n",
      "Français apparait 5 fois dans le corpus\n",
      "Flamands apparait 4 fois dans le corpus\n",
      "Flandre apparait 4 fois dans le corpus\n",
      "Dinant apparait 4 fois dans le corpus\n",
      "Anderlecht apparait 3 fois dans le corpus\n",
      "Jette apparait 3 fois dans le corpus\n",
      "Ixelles apparait 3 fois dans le corpus\n",
      "Namur apparait 3 fois dans le corpus\n",
      "Uccle apparait 3 fois dans le corpus\n",
      "Schaerbeck apparait 3 fois dans le corpus\n",
      "Etats-Unis apparait 3 fois dans le corpus\n",
      "Angleterre apparait 3 fois dans le corpus\n",
      "Banks apparait 3 fois dans le corpus\n",
      "océan Indien apparait 3 fois dans le corpus\n",
      "Centre apparait 3 fois dans le corpus\n",
      "Halanzy apparait 3 fois dans le corpus\n",
      "Brux apparait 2 fois dans le corpus\n",
      "Forest apparait 2 fois dans le corpus\n",
      "BRUXELLES apparait 2 fois dans le corpus\n",
      "Binche apparait 2 fois dans le corpus\n",
      "cimetière d’Ixelles apparait 2 fois dans le corpus\n",
      "Laeken apparait 2 fois dans le corpus\n",
      "Etterbeek apparait 2 fois dans le corpus\n",
      "Evere apparait 2 fois dans le corpus\n",
      "Wallons apparait 2 fois dans le corpus\n",
      "Belge apparait 2 fois dans le corpus\n",
      "Fleurus apparait 2 fois dans le corpus\n",
      "Belges apparait 2 fois dans le corpus\n",
      "Oxford apparait 2 fois dans le corpus\n",
      "grand-duché de Luxembourg apparait 2 fois dans le corpus\n",
      "la Défense apparait 2 fois dans le corpus\n",
      "Tchécoslovaquie apparait 2 fois dans le corpus\n",
      "Hongrie apparait 2 fois dans le corpus\n",
      "Auderghem apparait 2 fois dans le corpus\n",
      "Rochefort apparait 2 fois dans le corpus\n",
      "Wavreille apparait 2 fois dans le corpus\n"
     ]
    }
   ],
   "source": [
    "\n",
    "sorted_locations = sorted(locations.items(), key=lambda kv: kv[1], reverse=True)\n",
    "\n",
    "for location, freq in sorted_locations[:50]:\n",
    "         print(f\"{location} apparait {freq} fois dans le corpus\")"
   ]
  }
 ],
 "metadata": {
  "kernelspec": {
   "display_name": "Python 3.10.7 ('tac_venv': venv)",
   "language": "python",
   "name": "python3"
  },
  "language_info": {
   "codemirror_mode": {
    "name": "ipython",
    "version": 3
   },
   "file_extension": ".py",
   "mimetype": "text/x-python",
   "name": "python",
   "nbconvert_exporter": "python",
   "pygments_lexer": "ipython3",
   "version": "3.10.7"
  },
  "orig_nbformat": 4,
  "vscode": {
   "interpreter": {
    "hash": "4d4aa92c91ff20a7f731610d6030887aa3052b801eaf689def2ca205c2a2e316"
   }
  }
 },
 "nbformat": 4,
 "nbformat_minor": 2
}
