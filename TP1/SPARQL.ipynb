{
 "cells": [
  {
   "cell_type": "code",
   "execution_count": 1,
   "metadata": {},
   "outputs": [],
   "source": [
    "from datetime import datetime as dt\n",
    "from SPARQLWrapper import SPARQLWrapper, JSON"
   ]
  },
  {
   "cell_type": "code",
   "execution_count": 2,
   "metadata": {},
   "outputs": [
    {
     "name": "stdout",
     "output_type": "stream",
     "text": [
      "\n",
      "1667 Belgian politicians found\n",
      "\n",
      "[{'item': {'type': 'uri', 'value': 'http://www.wikidata.org/entity/Q1378815'}, 'itemLabel': {'type': 'literal', 'value': 'Q1378815'}}, {'item': {'type': 'uri', 'value': 'http://www.wikidata.org/entity/Q2119208'}, 'itemLabel': {'type': 'literal', 'value': 'Q2119208'}}, {'item': {'type': 'uri', 'value': 'http://www.wikidata.org/entity/Q2392552'}, 'itemLabel': {'type': 'literal', 'value': 'Q2392552'}}, {'item': {'type': 'uri', 'value': 'http://www.wikidata.org/entity/Q2394021'}, 'itemLabel': {'type': 'literal', 'value': 'Q2394021'}}, {'item': {'type': 'uri', 'value': 'http://www.wikidata.org/entity/Q2429168'}, 'itemLabel': {'type': 'literal', 'value': 'Q2429168'}}, {'item': {'type': 'uri', 'value': 'http://www.wikidata.org/entity/Q2804405'}, 'itemLabel': {'type': 'literal', 'value': 'Q2804405'}}, {'item': {'type': 'uri', 'value': 'http://www.wikidata.org/entity/Q2847747'}, 'itemLabel': {'type': 'literal', 'value': 'Q2847747'}}, {'item': {'type': 'uri', 'value': 'http://www.wikidata.org/entity/Q2883994'}, 'itemLabel': {'type': 'literal', 'value': 'Q2883994'}}, {'item': {'type': 'uri', 'value': 'http://www.wikidata.org/entity/Q3059823'}, 'itemLabel': {'type': 'literal', 'value': 'Q3059823'}}, {'item': {'type': 'uri', 'value': 'http://www.wikidata.org/entity/Q3178273'}, 'itemLabel': {'type': 'literal', 'value': 'Q3178273'}}]\n"
     ]
    }
   ],
   "source": [
    "# Retrieve results from SPARQL\n",
    "endpoint = \"https://query.wikidata.org/bigdata/namespace/wdq/sparql\"\n",
    "sparql = SPARQLWrapper(endpoint)\n",
    "\n",
    "statement = \"\"\"\n",
    "SELECT DISTINCT ?item ?itemLabel WHERE {\n",
    "  SERVICE wikibase:label { bd:serviceParam wikibase:language \"[AUTO_LANGUAGE]\". }\n",
    "  {\n",
    "    SELECT DISTINCT ?item WHERE {\n",
    "      ?item p:P106 ?statement0.\n",
    "      ?statement0 (ps:P106/(wdt:P279*)) wd:Q1930187.\n",
    "      ?item p:P27 ?statement1.\n",
    "      ?statement1 (ps:P27/(wdt:P279*)) wd:Q31.\n",
    "    }\n",
    "  }\n",
    "}\n",
    "\"\"\"\n",
    "\n",
    "sparql.setQuery(statement)\n",
    "sparql.setReturnFormat(JSON)\n",
    "results = sparql.query().convert()\n",
    "\n",
    "rows = results['results']['bindings']\n",
    "print(f\"\\n{len(rows)} Belgian politicians found\\n\")\n",
    "print(rows[:10])"
   ]
  }
 ],
 "metadata": {
  "kernelspec": {
   "display_name": "Python 3.10.7 ('tac_venv': venv)",
   "language": "python",
   "name": "python3"
  },
  "language_info": {
   "codemirror_mode": {
    "name": "ipython",
    "version": 3
   },
   "file_extension": ".py",
   "mimetype": "text/x-python",
   "name": "python",
   "nbconvert_exporter": "python",
   "pygments_lexer": "ipython3",
   "version": "3.10.7"
  },
  "orig_nbformat": 4,
  "vscode": {
   "interpreter": {
    "hash": "4d4aa92c91ff20a7f731610d6030887aa3052b801eaf689def2ca205c2a2e316"
   }
  }
 },
 "nbformat": 4,
 "nbformat_minor": 2
}
